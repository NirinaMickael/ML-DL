{
  "cells": [
    {
      "cell_type": "code",
      "execution_count": null,
      "metadata": {
        "id": "fodjYVpKp3_b"
      },
      "outputs": [],
      "source": [
        "import os\n",
        "import glob\n",
        "import numpy as np\n",
        "import cv2\n",
        "import pandas as pd\n",
        "from matplotlib import pyplot as plt\n",
        "from google.colab.patches import cv2_imshow\n",
        "from sklearn.model_selection import train_test_split\n",
        "import random\n",
        "import matplotlib.pyplot as plt\n",
        "import matplotlib.image as mpimg\n",
        "from sklearn.dummy import DummyClassifier\n",
        "from sklearn.model_selection import train_test_split\n",
        "from sklearn.metrics import accuracy_score\n",
        "from sklearn.linear_model import LogisticRegression\n",
        "from sklearn.model_selection import GridSearchCV\n",
        "from sklearn.svm import SVC\n",
        "from sklearn.neighbors import KNeighborsClassifier\n",
        "from sklearn.svm import LinearSVC\n",
        "from sklearn.model_selection import KFold\n",
        "from sklearn.model_selection import RandomizedSearchCV"
      ]
    },
    {
      "cell_type": "markdown",
      "metadata": {
        "id": "Jp7ZFonl3MTm"
      },
      "source": [
        "# ▶ IMPORTATION DE DONNEE"
      ]
    },
    {
      "cell_type": "code",
      "execution_count": null,
      "metadata": {
        "colab": {
          "base_uri": "https://localhost:8080/"
        },
        "id": "E--A7yilp-rt",
        "outputId": "781d4c11-531f-4b3c-a9ac-76dd7b9bf67a"
      },
      "outputs": [
        {
          "output_type": "stream",
          "name": "stdout",
          "text": [
            "Downloading...\n",
            "From: https://drive.google.com/u/0/uc?id=1ib6KiY4k4Wtv7I9p02sidhS_LygtIQeB\n",
            "To: /content/image_classification.zip\n",
            "100% 146M/146M [00:02<00:00, 68.1MB/s]\n"
          ]
        }
      ],
      "source": [
        "!gdown https://drive.google.com/u/0/uc?id=1ib6KiY4k4Wtv7I9p02sidhS_LygtIQeB&export=download;\n",
        "!unzip -q /content/image_classification.zip ;"
      ]
    },
    {
      "cell_type": "markdown",
      "metadata": {
        "id": "ctw58Yx_Q_jx"
      },
      "source": [
        "# fonction"
      ]
    },
    {
      "cell_type": "code",
      "execution_count": null,
      "metadata": {
        "id": "aK2Ze-qFFzNO"
      },
      "outputs": [],
      "source": [
        "def loadAllImage(folder):\n",
        "  result=[]\n",
        "  for label in folder:\n",
        "    for img in os.listdir(label):\n",
        "      gray_image = cv2.imread(label+\"/\"+img)\n",
        "      result.append(gray_image)\n",
        "  return result"
      ]
    },
    {
      "cell_type": "code",
      "execution_count": null,
      "metadata": {
        "id": "HIuhL9asJ8s5"
      },
      "outputs": [],
      "source": [
        "def ImageToGray(images):\n",
        "  return np.array([ cv2.cvtColor(image,cv2.COLOR_BGR2GRAY) for image in images])"
      ]
    },
    {
      "cell_type": "code",
      "execution_count": null,
      "metadata": {
        "id": "utOHvCW8JsPj"
      },
      "outputs": [],
      "source": [
        "def InitializeTarget(folder):\n",
        "  result=[]\n",
        "  for i,label in enumerate(folder):\n",
        "    dict={}\n",
        "    temp_label=label.split('/')[-1]\n",
        "    for img in os.listdir(label):\n",
        "      dict[temp_label]=i\n",
        "      result.append(dict)\n",
        "  return np.array(result)"
      ]
    },
    {
      "cell_type": "code",
      "execution_count": null,
      "metadata": {
        "id": "HRrIm_B6tKhP"
      },
      "outputs": [],
      "source": [
        "#cette fonction va compter le nombre d'image dans le dossier test et train\n",
        "def countNumberImage(folder):\n",
        "  c=0\n",
        "  for label in folder:\n",
        "    count_label=0\n",
        "    for img in os.listdir(label):\n",
        "      c=c+1\n",
        "      count_label=count_label+1\n",
        "    print(\"{0} -> {1}\".format(label,count_label))\n",
        "  return c"
      ]
    },
    {
      "cell_type": "code",
      "execution_count": null,
      "metadata": {
        "id": "9Gp4vehkN2Iv"
      },
      "outputs": [],
      "source": [
        "#def ImageToEqualize(images):\n",
        "  #return np.array([cv2.equalizeHist(img) for img in images])"
      ]
    },
    {
      "cell_type": "code",
      "execution_count": null,
      "metadata": {
        "id": "fzIEwrO0OpUv"
      },
      "outputs": [],
      "source": [
        "def flattenImage(images):\n",
        "  return np.array([image.flatten() for image in images])"
      ]
    },
    {
      "cell_type": "code",
      "execution_count": null,
      "metadata": {
        "id": "nLlpkLGlQn1g"
      },
      "outputs": [],
      "source": [
        "def normalizeImages(images):\n",
        "  return np.array([image/255 for image in images])"
      ]
    },
    {
      "cell_type": "code",
      "execution_count": null,
      "metadata": {
        "id": "7Dh_LRWlNi5h"
      },
      "outputs": [],
      "source": [
        "def VizualizeImages(images,y):\n",
        "  # fig, axes = plt.subplots(5, 2, figsize=(10, 10))\n",
        "  #  # Loop through the folders and randomly select and display one image from each folder\n",
        "  start=0\n",
        "  end=5000\n",
        "  for i in range(10):\n",
        "    random_index = random.randint(start,end)\n",
        "    start=end\n",
        "    end=end+5000\n",
        "    title=y[i]\n",
        "    cv2_imshow(images[random_index])\n",
        "  #   ax.set_title(title)  # Set the image file name as the title\n",
        "  # plt.tight_layout()\n",
        "  # plt.show()"
      ]
    },
    {
      "cell_type": "code",
      "execution_count": null,
      "metadata": {
        "id": "NY9dnukLP_C4"
      },
      "outputs": [],
      "source": [
        "def NormalizeAllData(folder,y_target):\n",
        "  images=loadAllImage(folder)\n",
        "  print(\"--------- IMAGE GRAY-------------\")\n",
        "  label_gray= ImageToGray(images)\n",
        "  VizualizeImages(label_gray,y_target)\n",
        "  print(\"--------- IMAGE APRES HISTOGRAMME-------------\")\n",
        "  # label_equalize = ImageToEqualize(label_gray)\n",
        "  # VizualizeImages(label_equalize,y_target)\n",
        "  imageflatten = flattenImage(label_gray)\n",
        "  normalize = normalizeImages(imageflatten)\n",
        "  return np.array(normalize)"
      ]
    },
    {
      "cell_type": "markdown",
      "metadata": {
        "id": "OYPRPgZecRL7"
      },
      "source": [
        "# ▶ EXPLORATION DE DONNE"
      ]
    },
    {
      "cell_type": "code",
      "execution_count": null,
      "metadata": {
        "id": "4dyD0K0RquyP"
      },
      "outputs": [],
      "source": [
        "baseUrlTrain=\"cifar10/train\"\n",
        "baseUrlTest=\"cifar10/test\"\n",
        "newFolderEdit=\"new_cifar10\""
      ]
    },
    {
      "cell_type": "code",
      "execution_count": null,
      "metadata": {
        "id": "MPz-o57DsHg3"
      },
      "outputs": [],
      "source": [
        "labels = os.listdir(baseUrlTrain)\n",
        "labels.sort()"
      ]
    },
    {
      "cell_type": "code",
      "execution_count": null,
      "metadata": {
        "colab": {
          "base_uri": "https://localhost:8080/"
        },
        "id": "JMGQDlwT_KA5",
        "outputId": "b6ae14f0-f7b5-4fa2-96fe-55e8e5ee97f1"
      },
      "outputs": [
        {
          "output_type": "stream",
          "name": "stdout",
          "text": [
            "['cifar10/test/airplane', 'cifar10/test/automobile', 'cifar10/test/bird', 'cifar10/test/cat', 'cifar10/test/deer', 'cifar10/test/dog', 'cifar10/test/frog', 'cifar10/test/horse', 'cifar10/test/ship', 'cifar10/test/truck']\n",
            "['cifar10/train/airplane', 'cifar10/train/automobile', 'cifar10/train/bird', 'cifar10/train/cat', 'cifar10/train/deer', 'cifar10/train/dog', 'cifar10/train/frog', 'cifar10/train/horse', 'cifar10/train/ship', 'cifar10/train/truck']\n"
          ]
        }
      ],
      "source": [
        "subdirs_test = [os.path.join(baseUrlTest,d) for d in labels if os.path.isdir(os.path.join(baseUrlTest,d))]\n",
        "subdirs_train  = [os.path.join(baseUrlTrain,d) for d in labels if os.path.isdir(os.path.join(baseUrlTrain,d))]\n",
        "print(subdirs_test)\n",
        "print(subdirs_train)"
      ]
    },
    {
      "cell_type": "code",
      "execution_count": null,
      "metadata": {
        "id": "hBo2btAmNElh"
      },
      "outputs": [],
      "source": [
        "target = InitializeTarget(subdirs_train)"
      ]
    },
    {
      "cell_type": "code",
      "execution_count": null,
      "metadata": {
        "id": "V3YIDGqvStqi"
      },
      "outputs": [],
      "source": [
        "data = [dict(s) for s in set(frozenset(d.items()) for d in target)]"
      ]
    },
    {
      "cell_type": "code",
      "execution_count": null,
      "metadata": {
        "colab": {
          "base_uri": "https://localhost:8080/"
        },
        "id": "gcxScXS7RK2J",
        "outputId": "a104ee42-b7c7-49c1-884f-24e42e891f2f"
      },
      "outputs": [
        {
          "output_type": "stream",
          "name": "stdout",
          "text": [
            "class => [{'airplane': 0}, {'automobile': 1}, {'bird': 2}, {'cat': 3}, {'deer': 4}, {'dog': 5}, {'frog': 6}, {'horse': 7}, {'ship': 8}, {'truck': 9}]\n"
          ]
        }
      ],
      "source": [
        "y_target=sorted(data, key=lambda x: list(x.values())[0])\n",
        "print(\"class =>\",y_target)"
      ]
    },
    {
      "cell_type": "code",
      "execution_count": null,
      "metadata": {
        "colab": {
          "base_uri": "https://localhost:8080/"
        },
        "id": "geKRPVZ0uDJ_",
        "outputId": "9c102f3c-150a-48a5-8a44-f6dd44e5816c"
      },
      "outputs": [
        {
          "output_type": "stream",
          "name": "stdout",
          "text": [
            "cifar10/test/airplane -> 1000\n",
            "cifar10/test/automobile -> 1000\n",
            "cifar10/test/bird -> 1000\n",
            "cifar10/test/cat -> 1000\n",
            "cifar10/test/deer -> 1000\n",
            "cifar10/test/dog -> 1000\n",
            "cifar10/test/frog -> 1000\n",
            "cifar10/test/horse -> 1000\n",
            "cifar10/test/ship -> 1000\n",
            "cifar10/test/truck -> 1000\n",
            "on a 10000 image pour le donnee d'train \n",
            "cifar10/train/airplane -> 5000\n",
            "cifar10/train/automobile -> 5000\n",
            "cifar10/train/bird -> 5000\n",
            "cifar10/train/cat -> 5000\n",
            "cifar10/train/deer -> 5000\n",
            "cifar10/train/dog -> 5000\n",
            "cifar10/train/frog -> 5000\n",
            "cifar10/train/horse -> 5000\n",
            "cifar10/train/ship -> 5000\n",
            "cifar10/train/truck -> 5000\n",
            "on a 50000 image pour le donnee de entrainement \n"
          ]
        }
      ],
      "source": [
        "print(\"on a {0} image pour le donnee d'train \".format(countNumberImage(subdirs_test)))\n",
        "print(\"on a {0} image pour le donnee de entrainement \".format(countNumberImage(subdirs_train)))"
      ]
    },
    {
      "cell_type": "markdown",
      "metadata": {
        "id": "gw8XodrODEfd"
      },
      "source": [
        "L'ensemble de données CIFAR-10 se compose de 60 000 images couleur 32 x 32 réparties en 10 classes, avec 6 000 images par classe. Il existe 50 000 images de formation et 10 000 images de test.\n",
        "\n",
        "L'ensemble de données est divisé en cinq lots de formation et un lot de test, chacun contenant 10 000 images. Le lot de test contient exactement 1 000 images sélectionnées au hasard dans chaque classe. Les lots de formation contiennent les images restantes dans un ordre aléatoire, mais certains lots de formation peuvent contenir plus d'images d'une classe que d'une autre. Entre eux, les lots de formation contiennent exactement 5 000 images de chaque classe.\n",
        "\n",
        "Les classes d'étiquettes dans l'ensemble de données sont:\n",
        "\n",
        "*   airplane\n",
        "*   automobile\n",
        "*   bird\n",
        "*   cat\n",
        "*   deer\n",
        "*   dog\n",
        "*   frog\n",
        "*   horse\n",
        "*   ship\n",
        "*   truck"
      ]
    },
    {
      "cell_type": "code",
      "execution_count": null,
      "metadata": {
        "colab": {
          "base_uri": "https://localhost:8080/"
        },
        "id": "W4K8ROyMg5qj",
        "outputId": "26552cd7-0a61-40b9-b463-66170b97625e"
      },
      "outputs": [
        {
          "output_type": "display_data",
          "data": {
            "text/plain": [
              "<PIL.Image.Image image mode=RGB size=32x32>"
            ],
            "image/png": "[encoded data removed]"
          },
          "metadata": {}
        },
        {
          "output_type": "display_data",
          "data": {
            "text/plain": [
              "<PIL.Image.Image image mode=RGB size=32x32>"
            ],
            "image/png": "[encoded data removed]"
          },
          "metadata": {}
        },
        {
          "output_type": "display_data",
          "data": {
            "text/plain": [
              "<PIL.Image.Image image mode=RGB size=32x32>"
            ],
            "image/png": "[encoded data removed]"
          },
          "metadata": {}
        },
        {
          "output_type": "display_data",
          "data": {
            "text/plain": [
              "<PIL.Image.Image image mode=RGB size=32x32>"
            ],
            "image/png": "[encoded data removed]"
          },
          "metadata": {}
        },
        {
          "output_type": "display_data",
          "data": {
            "text/plain": [
              "<PIL.Image.Image image mode=RGB size=32x32>"
            ],
            "image/png": "[encoded data removed]"
          },
          "metadata": {}
        },
        {
          "output_type": "display_data",
          "data": {
            "text/plain": [
              "<PIL.Image.Image image mode=RGB size=32x32>"
            ],
            "image/png": "[encoded data removed]"
          },
          "metadata": {}
        },
        {
          "output_type": "display_data",
          "data": {
            "text/plain": [
              "<PIL.Image.Image image mode=RGB size=32x32>"
            ],
            "image/png": "[encoded data removed]"
          },
          "metadata": {}
        },
        {
          "output_type": "display_data",
          "data": {
            "text/plain": [
              "<PIL.Image.Image image mode=RGB size=32x32>"
            ],
            "image/png": "[encoded data removed]"
          },
          "metadata": {}
        },
        {
          "output_type": "display_data",
          "data": {
            "text/plain": [
              "<PIL.Image.Image image mode=RGB size=32x32>"
            ],
            "image/png": "[encoded data removed]"
          },
          "metadata": {}
        },
        {
          "output_type": "display_data",
          "data": {
            "text/plain": [
              "<PIL.Image.Image image mode=RGB size=32x32>"
            ],
            "image/png": "[encoded data removed]"
          },
          "metadata": {}
        }
      ],
      "source": [
        "VizualizeImages(loadAllImage(subdirs_train),y_target)"
      ]
    },
    {
      "cell_type": "markdown",
      "metadata": {
        "id": "mHL48Ps6RG9R"
      },
      "source": [
        "# PRE-TRAITEMENT DE DONNE"
      ]
    },
    {
      "cell_type": "markdown",
      "metadata": {
        "id": "Yj4XmBTPENCk"
      },
      "source": [
        "D'aprés l\"exploration de donnée, on constate que les image sont des images en couleur, c'est à dire que type RGB(trois dimension) . Donc pour bien traité ces images on les transforme  en image gris , l'image est en une seule dimension ."
      ]
    },
    {
      "cell_type": "code",
      "execution_count": null,
      "metadata": {
        "colab": {
          "base_uri": "https://localhost:8080/"
        },
        "id": "LEehQ5m6RUeR",
        "outputId": "3c637963-9296-43af-e4b9-74ebb98e31da"
      },
      "outputs": [
        {
          "output_type": "stream",
          "name": "stdout",
          "text": [
            "--------- IMAGE GRAY-------------\n"
          ]
        },
        {
          "output_type": "display_data",
          "data": {
            "text/plain": [
              "<PIL.Image.Image image mode=L size=32x32>"
            ],
            "image/png": "[encoded data removed]"
          },
          "metadata": {}
        },
        {
          "output_type": "display_data",
          "data": {
            "text/plain": [
              "<PIL.Image.Image image mode=L size=32x32>"
            ],
            "image/png": "[encoded data removed]"
          },
          "metadata": {}
        },
        {
          "output_type": "display_data",
          "data": {
            "text/plain": [
              "<PIL.Image.Image image mode=L size=32x32>"
            ],
            "image/png": "[encoded data removed]"
          },
          "metadata": {}
        },
        {
          "output_type": "display_data",
          "data": {
            "text/plain": [
              "<PIL.Image.Image image mode=L size=32x32>"
            ],
            "image/png": "[encoded data removed]"
          },
          "metadata": {}
        },
        {
          "output_type": "display_data",
          "data": {
            "text/plain": [
              "<PIL.Image.Image image mode=L size=32x32>"
            ],
            "image/png": "[encoded data removed]"
          },
          "metadata": {}
        },
        {
          "output_type": "display_data",
          "data": {
            "text/plain": [
              "<PIL.Image.Image image mode=L size=32x32>"
            ],
            "image/png": "[encoded data removed]"
          },
          "metadata": {}
        },
        {
          "output_type": "display_data",
          "data": {
            "text/plain": [
              "<PIL.Image.Image image mode=L size=32x32>"
            ],
            "image/png": "[encoded data removed]"
          },
          "metadata": {}
        },
        {
          "output_type": "display_data",
          "data": {
            "text/plain": [
              "<PIL.Image.Image image mode=L size=32x32>"
            ],
            "image/png": "[encoded data removed]"
          },
          "metadata": {}
        },
        {
          "output_type": "display_data",
          "data": {
            "text/plain": [
              "<PIL.Image.Image image mode=L size=32x32>"
            ],
            "image/png": "[encoded data removed]"
          },
          "metadata": {}
        },
        {
          "output_type": "display_data",
          "data": {
            "text/plain": [
              "<PIL.Image.Image image mode=L size=32x32>"
            ],
            "image/png": "[encoded data removed]"
          },
          "metadata": {}
        },
        {
          "output_type": "stream",
          "name": "stdout",
          "text": [
            "--------- IMAGE APRES HISTOGRAMME-------------\n"
          ]
        }
      ],
      "source": [
        "X = NormalizeAllData(subdirs_train,y_target)"
      ]
    },
    {
      "cell_type": "code",
      "execution_count": null,
      "metadata": {
        "id": "wIug0RmWRbOQ"
      },
      "outputs": [],
      "source": [
        "y = [list(d.values())[0] for d in target]"
      ]
    },
    {
      "cell_type": "code",
      "execution_count": null,
      "metadata": {
        "id": "J6gQUZWrYaua"
      },
      "outputs": [],
      "source": [
        "X_train, X_test, y_train, y_test = train_test_split(X, y, test_size=0.3, random_state=42)"
      ]
    },
    {
      "cell_type": "markdown",
      "metadata": {
        "id": "Q5tGsy84z163"
      },
      "source": [
        "# MODEL DE SELECTION"
      ]
    },
    {
      "cell_type": "code",
      "execution_count": null,
      "metadata": {
        "id": "x0UsHU4i_ehs"
      },
      "outputs": [],
      "source": [
        "kf=KFold(n_splits=3,shuffle=True,random_state=42)"
      ]
    },
    {
      "cell_type": "markdown",
      "metadata": {
        "id": "WU0ZymPO3erj"
      },
      "source": [
        "## Random baseline"
      ]
    },
    {
      "cell_type": "code",
      "execution_count": null,
      "metadata": {
        "colab": {
          "base_uri": "https://localhost:8080/"
        },
        "id": "pgKu6nUOz40R",
        "outputId": "5b180be4-8d93-46bc-9d8f-cec54224b389"
      },
      "outputs": [
        {
          "name": "stdout",
          "output_type": "stream",
          "text": [
            "Best Score: 0.09934275934307145\n",
            "Best Hyperparameters: {'strategy': 'stratified'}\n",
            "Précision sur l'ensemble de test: 0.0976\n"
          ]
        }
      ],
      "source": [
        "# Définir les paramètres que vous souhaitez tester\n",
        "space_random = {\n",
        "    'strategy': ['uniform', 'most_frequent', 'stratified']\n",
        "}\n",
        "# Créer un DummyClassifier\n",
        "dummy_clf = DummyClassifier()\n",
        "\n",
        "# define search\n",
        "search_random = RandomizedSearchCV(dummy_clf, space_random, n_iter=3, scoring='accuracy', n_jobs=-1, cv=kf, random_state=0)\n",
        "result_random = search_random.fit(X_train, y_train)\n",
        "# summarize result\n",
        "print('Best Score: %s' % result_random.best_score_)\n",
        "print('Best Hyperparameters: %s' % result_random.best_params_)\n",
        "# Évaluer la précision sur l'ensemble de test\n",
        "y_pred_random = result_random.predict(X_test)\n",
        "accuracy_random= accuracy_score(y_test, y_pred_random)\n",
        "print(f'Précision sur l\\'ensemble de test: {accuracy_random}')"
      ]
    },
    {
      "cell_type": "markdown",
      "metadata": {
        "id": "dvHpwzYp3agk"
      },
      "source": [
        "## Multinomial logistic regression"
      ]
    },
    {
      "cell_type": "markdown",
      "metadata": {
        "id": "z4n9R3beYhaW"
      },
      "source": [
        "Quelque explication pour les valeurs des hyperparametre\n",
        "\n",
        "\n",
        "1.   Solver\n",
        "\n",
        "   **lbfgs (Limited-memory Broyden–Fletcher–Goldfarb–Shanno)**\n",
        "    \n",
        "    C'est une méthode quasi-Newton utilisant une approximation limitée de la matrice hessienne.\n",
        "    Elle fonctionne bien pour les ensembles de données de taille moyenne à grande.\n",
        "    Convient pour la régularisation \"l2\".\n",
        "\n",
        "    **sag (Stochastic Average Gradient Descent)**\n",
        "\n",
        "    Cet algorithme est une variante de la descente de gradient stochastique.\n",
        "    Il est efficace pour les ensembles de données volumineux.\n",
        "    Convient pour la régularisation \"l2\".\n",
        "\n",
        "    **saga**\n",
        "\n",
        "    Il s'agit d'une variante du SAG qui prend également en charge la régularisation \"l1\".\n",
        "    Comme sag, il est efficace pour les ensembles de données volumineux.\n",
        "    Convient pour les régularisations \"l1\" et \"l2\".\n",
        "\n",
        "2.  C\n",
        "\n",
        "    Inverse de la force de régularisation.\n",
        "    Plus la valeur de C est petite, plus la régularisation est forte."
      ]
    },
    {
      "cell_type": "code",
      "execution_count": null,
      "metadata": {
        "colab": {
          "base_uri": "https://localhost:8080/"
        },
        "id": "BOb2VP_i13UD",
        "outputId": "8ee01792-9116-4d69-88ea-e8b5638299b4"
      },
      "outputs": [
        {
          "name": "stdout",
          "output_type": "stream",
          "text": [
            "convergence after 17 epochs took 18 seconds\n",
            "convergence after 17 epochs took 17 seconds\n",
            "convergence after 57 epochs took 77 seconds\n",
            "convergence after 59 epochs took 78 seconds\n",
            "convergence after 21 epochs took 21 seconds\n",
            "convergence after 24 epochs took 26 seconds\n",
            "convergence after 55 epochs took 72 seconds\n",
            "convergence after 57 epochs took 74 seconds\n",
            "rescaling...\n",
            "rescaling...\n",
            "rescaling...\n",
            "rescaling...\n",
            "rescaling...\n",
            "rescaling...\n",
            "rescaling...\n",
            "rescaling...\n",
            "rescaling...\n",
            "rescaling...\n",
            "rescaling...\n",
            "rescaling...\n",
            "rescaling...\n",
            "rescaling...\n",
            "rescaling...\n",
            "rescaling...\n",
            "rescaling...\n",
            "rescaling...\n",
            "rescaling...\n",
            "rescaling...\n",
            "rescaling...\n",
            "rescaling...\n",
            "rescaling...\n",
            "rescaling...\n",
            "rescaling...\n",
            "rescaling...\n",
            "rescaling...\n",
            "rescaling...\n",
            "rescaling...\n",
            "rescaling...\n",
            "convergence after 15 epochs took 16 seconds\n",
            "rescaling...\n",
            "rescaling...\n",
            "rescaling...\n",
            "rescaling...\n",
            "rescaling...\n",
            "rescaling...\n",
            "rescaling...\n",
            "rescaling...\n",
            "rescaling...\n",
            "rescaling...\n",
            "rescaling...\n",
            "rescaling...\n",
            "rescaling...\n",
            "rescaling...\n",
            "rescaling...\n",
            "convergence after 15 epochs took 16 seconds\n",
            "convergence after 42 epochs took 55 seconds\n",
            "convergence after 41 epochs took 52 seconds\n",
            "convergence after 23 epochs took 47 seconds\n",
            "best parametre {'C': 0.01, 'solver': 'sag'}\n",
            "Précision sur l'ensemble de test: 0.30273333333333335\n"
          ]
        }
      ],
      "source": [
        "param_grid = {\n",
        "    'C': [0.001, 0.01, 0.0001],\n",
        "    'solver': ['sag', 'saga','newton-cg'],\n",
        "}\n",
        "# Create a Logistic Regression model\n",
        "logreg = LogisticRegression(verbose=1,multi_class='multinomial',penalty='l2',max_iter=800)\n",
        "\n",
        "# Use GridSearchCV to find the best hyperparameters\n",
        "grid_search = GridSearchCV(logreg, param_grid, cv=2)\n",
        "grid_search.fit(X_train, y_train)\n",
        "\n",
        "# Get the best hyperparameters\n",
        "best_params = grid_search.best_params_\n",
        "print(\"best parametre\",best_params)\n",
        "# Fit the model with the best hyperparameters\n",
        "y_pred_log = grid_search.predict(X_test)\n",
        "accuracy_log = accuracy_score(y_test, y_pred_log)\n",
        "print(f'Précision sur l\\'ensemble de test: {accuracy_log}')"
      ]
    },
    {
      "cell_type": "markdown",
      "metadata": {
        "id": "SCzF_sTH5Aoa"
      },
      "source": [
        "## K-nearest Neihgbors"
      ]
    },
    {
      "cell_type": "code",
      "execution_count": null,
      "metadata": {
        "colab": {
          "base_uri": "https://localhost:8080/"
        },
        "id": "4vDcbzQtQ1LG",
        "outputId": "2fc7e275-a6ec-4dd6-e1fe-e29a38381905"
      },
      "outputs": [
        {
          "name": "stdout",
          "output_type": "stream",
          "text": [
            "Fitting 3 folds for each of 6 candidates, totalling 18 fits\n",
            "The best parameter is {'n_neighbors': 17}\n",
            "Précision sur l'ensemble de test: 0.2799333333333333\n"
          ]
        }
      ],
      "source": [
        "parameter={'n_neighbors': np.arange(2, 30, 5)}\n",
        "knn=KNeighborsClassifier()\n",
        "knn_cv=GridSearchCV(knn, param_grid=parameter, cv=kf, verbose=1)\n",
        "knn_cv.fit(X_train, y_train)\n",
        "print(f'The best parameter is {knn_cv.best_params_}')\n",
        "y_pred_knn=knn_cv.predict(X_test)\n",
        "accuracy_knn = accuracy_score(y_test, y_pred_knn)\n",
        "print(f'Précision sur l\\'ensemble de test: {accuracy_knn}')"
      ]
    },
    {
      "cell_type": "markdown",
      "metadata": {
        "id": "-2BClLP15gsP"
      },
      "source": [
        "## SVC sans Kernel"
      ]
    },
    {
      "cell_type": "code",
      "execution_count": null,
      "metadata": {
        "colab": {
          "base_uri": "https://localhost:8080/"
        },
        "id": "CXVOuVnU5mFK",
        "outputId": "9639850c-c88f-43ba-f745-3e5d0c570867"
      },
      "outputs": [
        {
          "name": "stdout",
          "output_type": "stream",
          "text": [
            "Précision du modèle: 0.24873333333333333\n"
          ]
        },
        {
          "name": "stderr",
          "output_type": "stream",
          "text": [
            "/usr/local/lib/python3.10/dist-packages/sklearn/svm/_base.py:1244: ConvergenceWarning: Liblinear failed to converge, increase the number of iterations.\n",
            "  warnings.warn(\n"
          ]
        }
      ],
      "source": [
        "# Créer un modèle SVM pour la classification\n",
        "model_linear = LinearSVC()\n",
        "\n",
        "# Adapter le modèle aux données d'entraînement\n",
        "model_linear.fit(X_train, y_train)\n",
        "\n",
        "# Faire des prédictions sur l'ensemble de test\n",
        "y_pred_linear = model_linear.predict(X_test)\n",
        "\n",
        "# Évaluer la précision du modèle\n",
        "accuracy = accuracy_score(y_test, y_pred_linear)\n",
        "print(f'Précision du modèle: {accuracy}')"
      ]
    },
    {
      "cell_type": "markdown",
      "metadata": {
        "id": "x4J0R_qu5rnC"
      },
      "source": [
        "## SVC avec kernel"
      ]
    },
    {
      "cell_type": "code",
      "execution_count": null,
      "metadata": {
        "colab": {
          "base_uri": "https://localhost:8080/",
          "height": 488
        },
        "id": "_HNUfT6h6GPg",
        "outputId": "e0295e7d-afb5-4ff1-ed5a-3e3c0d87c467"
      },
      "outputs": [
        {
          "output_type": "stream",
          "name": "stdout",
          "text": [
            "Fitting 3 folds for each of 4 candidates, totalling 12 fits\n",
            "[CV 1/3] END ...........gamma=scale, kernel=rbf;, score=0.422 total time=15.0min\n",
            "[CV 2/3] END ...........gamma=scale, kernel=rbf;, score=0.418 total time=14.8min\n",
            "[CV 3/3] END ...........gamma=scale, kernel=rbf;, score=0.424 total time=15.2min\n",
            "[CV 1/3] END .......gamma=scale, kernel=sigmoid;, score=0.123 total time=12.8min\n",
            "[CV 2/3] END .......gamma=scale, kernel=sigmoid;, score=0.129 total time=13.1min\n",
            "[CV 3/3] END .......gamma=scale, kernel=sigmoid;, score=0.121 total time=12.9min\n",
            "[CV 1/3] END ............gamma=auto, kernel=rbf;, score=0.327 total time=17.0min\n",
            "[CV 2/3] END ............gamma=auto, kernel=rbf;, score=0.322 total time=16.7min\n",
            "[CV 3/3] END ............gamma=auto, kernel=rbf;, score=0.330 total time=16.7min\n",
            "[CV 1/3] END ........gamma=auto, kernel=sigmoid;, score=0.291 total time=16.2min\n",
            "[CV 2/3] END ........gamma=auto, kernel=sigmoid;, score=0.282 total time=16.5min\n",
            "[CV 3/3] END ........gamma=auto, kernel=sigmoid;, score=0.281 total time=16.3min\n",
            "The best parameter is {'gamma': 'scale', 'kernel': 'rbf'}\n"
          ]
        },
        {
          "output_type": "error",
          "ename": "NameError",
          "evalue": "ignored",
          "traceback": [
            "\u001b[0;31m---------------------------------------------------------------------------\u001b[0m",
            "\u001b[0;31mNameError\u001b[0m                                 Traceback (most recent call last)",
            "\u001b[0;32m<ipython-input-24-b568777c579a>\u001b[0m in \u001b[0;36m<cell line: 9>\u001b[0;34m()\u001b[0m\n\u001b[1;32m      7\u001b[0m \u001b[0msvc\u001b[0m\u001b[0;34m.\u001b[0m\u001b[0mfit\u001b[0m\u001b[0;34m(\u001b[0m\u001b[0mX_train\u001b[0m\u001b[0;34m,\u001b[0m \u001b[0my_train\u001b[0m\u001b[0;34m)\u001b[0m\u001b[0;34m\u001b[0m\u001b[0;34m\u001b[0m\u001b[0m\n\u001b[1;32m      8\u001b[0m \u001b[0mprint\u001b[0m\u001b[0;34m(\u001b[0m\u001b[0;34mf'The best parameter is {svc.best_params_}'\u001b[0m\u001b[0;34m)\u001b[0m\u001b[0;34m\u001b[0m\u001b[0;34m\u001b[0m\u001b[0m\n\u001b[0;32m----> 9\u001b[0;31m \u001b[0my_pred_svc\u001b[0m\u001b[0;34m=\u001b[0m\u001b[0mknn_cv\u001b[0m\u001b[0;34m.\u001b[0m\u001b[0mpredict\u001b[0m\u001b[0;34m(\u001b[0m\u001b[0mX_test\u001b[0m\u001b[0;34m)\u001b[0m\u001b[0;34m\u001b[0m\u001b[0;34m\u001b[0m\u001b[0m\n\u001b[0m\u001b[1;32m     10\u001b[0m \u001b[0maccuracy_svc\u001b[0m \u001b[0;34m=\u001b[0m \u001b[0maccuracy_score\u001b[0m\u001b[0;34m(\u001b[0m\u001b[0my_test\u001b[0m\u001b[0;34m,\u001b[0m \u001b[0my_pred_svc\u001b[0m\u001b[0;34m)\u001b[0m\u001b[0;34m\u001b[0m\u001b[0;34m\u001b[0m\u001b[0m\n\u001b[1;32m     11\u001b[0m \u001b[0mprint\u001b[0m\u001b[0;34m(\u001b[0m\u001b[0;34mf'Précision sur l\\'ensemble de test: {accuracy_svc}'\u001b[0m\u001b[0;34m)\u001b[0m\u001b[0;34m\u001b[0m\u001b[0;34m\u001b[0m\u001b[0m\n",
            "\u001b[0;31mNameError\u001b[0m: name 'knn_cv' is not defined"
          ]
        }
      ],
      "source": [
        "space_svc = {\n",
        "              'gamma': ['scale','auto'],\n",
        "              'kernel': ['rbf','sigmoid']\n",
        "            }\n",
        "model_svc = SVC()\n",
        "svc=GridSearchCV(model_svc, param_grid=space_svc, cv=kf, verbose=4)\n",
        "svc.fit(X_train, y_train)\n",
        "print(f'The best parameter is {svc.best_params_}')\n"
      ]
    },
    {
      "cell_type": "code",
      "source": [
        "y_pred_svc=svc.predict(X_test)\n",
        "accuracy_svc = accuracy_score(y_test, y_pred_svc)\n",
        "print(f'Précision sur l\\'ensemble de test: {accuracy_svc}')"
      ],
      "metadata": {
        "colab": {
          "base_uri": "https://localhost:8080/"
        },
        "id": "H8jCr9bJZuoT",
        "outputId": "dffc151d-ec0d-4973-8ec9-3a0f2f6402e2"
      },
      "execution_count": null,
      "outputs": [
        {
          "output_type": "stream",
          "name": "stdout",
          "text": [
            "Précision sur l'ensemble de test: 0.4437333333333333\n"
          ]
        }
      ]
    },
    {
      "cell_type": "code",
      "execution_count": null,
      "metadata": {
        "id": "YRGNrmU3KP7y"
      },
      "outputs": [],
      "source": []
    }
  ],
  "metadata": {
    "colab": {
      "collapsed_sections": [
        "Jp7ZFonl3MTm",
        "ctw58Yx_Q_jx",
        "OYPRPgZecRL7",
        "mHL48Ps6RG9R"
      ],
      "provenance": []
    },
    "kernelspec": {
      "display_name": "Python 3",
      "name": "python3"
    },
    "language_info": {
      "name": "python"
    }
  },
  "nbformat": 4,
  "nbformat_minor": 0
}